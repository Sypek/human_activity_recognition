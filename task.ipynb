{
 "cells": [
  {
   "cell_type": "code",
   "execution_count": 33,
   "metadata": {},
   "outputs": [],
   "source": [
    "import numpy as np\n",
    "import pandas as pd\n",
    "import matplotlib.pyplot as plt\n",
    "import seaborn as sns"
   ]
  },
  {
   "cell_type": "code",
   "execution_count": 2,
   "metadata": {},
   "outputs": [],
   "source": [
    "pd.set_option('display.max_rows', 100)\n",
    "pd.set_option('display.max_columns', 500)\n",
    "pd.set_option('display.width', 1000)"
   ]
  },
  {
   "cell_type": "markdown",
   "metadata": {},
   "source": [
    "Data is already splitted into Test and Train sets. <br>\n",
    "For this task information about subject id is rather unnecessary."
   ]
  },
  {
   "cell_type": "code",
   "execution_count": 24,
   "metadata": {},
   "outputs": [],
   "source": [
    "with open('features.txt', 'r') as f:\n",
    "    features_list = f.read().splitlines()"
   ]
  },
  {
   "cell_type": "code",
   "execution_count": 25,
   "metadata": {},
   "outputs": [],
   "source": [
    "import collections"
   ]
  },
  {
   "cell_type": "code",
   "execution_count": 26,
   "metadata": {},
   "outputs": [
    {
     "name": "stdout",
     "output_type": "stream",
     "text": [
      "[('tBodyAcc-ropy-1                ', 3), ('tGravityAcc-ropy-1             ', 3), ('tBodyAccJerk-ropy-1            ', 3), ('tBodyGyro-ropy-1               ', 3), ('tBodyGyroJerk-ropy-1           ', 3), ('fBodyAcc-ropy-1                ', 3), ('fBodyAcc-Skewness-1            ', 3), ('fBodyAcc-Kurtosis-1            ', 3), ('fBodyAccJerk-ropy-1            ', 3), ('fBodyAccJerk-Skewness-1        ', 3), ('fBodyAccJerk-Kurtosis-1        ', 3), ('fBodyGyro-ropy-1               ', 3), ('fBodyGyro-Skewness-1           ', 3), ('fBodyGyro-Kurtosis-1           ', 3)]\n"
     ]
    }
   ],
   "source": [
    "print([(item, count) for item, count in collections.Counter(features_list).items() if count>1])"
   ]
  },
  {
   "cell_type": "raw",
   "metadata": {},
   "source": [
    "I download new features.txt and name it features_correct.txt - this version does not have duplicates."
   ]
  },
  {
   "cell_type": "code",
   "execution_count": 27,
   "metadata": {},
   "outputs": [],
   "source": [
    "with open('features_correct.txt', 'r') as f:\n",
    "    features_list = f.read().splitlines()"
   ]
  },
  {
   "cell_type": "code",
   "execution_count": 28,
   "metadata": {},
   "outputs": [],
   "source": [
    "X_train = pd.read_csv('Train/X_train.txt', delimiter=' ', header=None, names=features_list)"
   ]
  },
  {
   "cell_type": "code",
   "execution_count": 29,
   "metadata": {},
   "outputs": [],
   "source": [
    "y_train = pd.read_csv('Train/y_train.txt', delimiter=' ', names=['label'])"
   ]
  },
  {
   "cell_type": "code",
   "execution_count": 30,
   "metadata": {},
   "outputs": [
    {
     "name": "stdout",
     "output_type": "stream",
     "text": [
      "Train set shape:  (7767, 561)\n",
      "Test set shape:  (7767, 1)\n"
     ]
    }
   ],
   "source": [
    "print('Train set shape: ', X_train.shape)\n",
    "print('Train(label) set shape: ', y_train.shape)"
   ]
  },
  {
   "cell_type": "code",
   "execution_count": 84,
   "metadata": {},
   "outputs": [
    {
     "name": "stdout",
     "output_type": "stream",
     "text": [
      "Test set shape:  (3162, 561)\n",
      "Test(label) set shape:  (3162, 1)\n"
     ]
    }
   ],
   "source": [
    "X_test = pd.read_csv('Test/X_test.txt', delimiter=' ', header=None, names=features_list)\n",
    "y_test = pd.read_csv('Test/y_test.txt', delimiter=' ', names=['label'])\n",
    "print('Test set shape: ', X_test.shape)\n",
    "print('Test(label) set shape: ', y_test.shape)"
   ]
  },
  {
   "cell_type": "code",
   "execution_count": 94,
   "metadata": {},
   "outputs": [
    {
     "name": "stdout",
     "output_type": "stream",
     "text": [
      "71.1% of the whole dataset was used as training set and the remaining part as test set\n"
     ]
    }
   ],
   "source": [
    "train_test_ratio =  (X_train.shape[0] / ( X_train.shape[0] +  X_test.shape[0])) * 100\n",
    "print('{:.1f}% of the whole dataset was used as training set and the remaining part as test set'.format(train_test_ratio))"
   ]
  },
  {
   "cell_type": "code",
   "execution_count": 31,
   "metadata": {},
   "outputs": [
    {
     "name": "stdout",
     "output_type": "stream",
     "text": [
      "Number of duplicates in training file:  0\n"
     ]
    }
   ],
   "source": [
    "print('Number of duplicates in training file: ', sum(X_train.duplicated()))"
   ]
  },
  {
   "cell_type": "code",
   "execution_count": 32,
   "metadata": {},
   "outputs": [
    {
     "name": "stdout",
     "output_type": "stream",
     "text": [
      "Number of missing values in training file:  0\n"
     ]
    }
   ],
   "source": [
    "print('Number of missing values in training file: ', X_train.isna().values.sum())"
   ]
  },
  {
   "cell_type": "code",
   "execution_count": 54,
   "metadata": {},
   "outputs": [],
   "source": [
    "with open('activity_labels.txt', 'r') as f:\n",
    "    activity_labels = f.read().splitlines()"
   ]
  },
  {
   "cell_type": "code",
   "execution_count": 55,
   "metadata": {},
   "outputs": [
    {
     "data": {
      "text/plain": [
       "['1 WALKING           ',\n",
       " '2 WALKING_UPSTAIRS  ',\n",
       " '3 WALKING_DOWNSTAIRS',\n",
       " '4 SITTING           ',\n",
       " '5 STANDING          ',\n",
       " '6 LAYING            ',\n",
       " '7 STAND_TO_SIT      ',\n",
       " '8 SIT_TO_STAND      ',\n",
       " '9 SIT_TO_LIE        ',\n",
       " '10 LIE_TO_SIT        ',\n",
       " '11 STAND_TO_LIE      ',\n",
       " '12 LIE_TO_STAND      ']"
      ]
     },
     "execution_count": 55,
     "metadata": {},
     "output_type": "execute_result"
    }
   ],
   "source": [
    "activity_labels"
   ]
  },
  {
   "cell_type": "code",
   "execution_count": 74,
   "metadata": {},
   "outputs": [],
   "source": [
    "y_train_label = pd.read_csv('activity_labels.txt', header=None, names=['activity'], delim_whitespace=True)"
   ]
  },
  {
   "cell_type": "code",
   "execution_count": 78,
   "metadata": {},
   "outputs": [],
   "source": [
    "y_train_with_label = pd.merge(left=y_train, \n",
    "                              right=y_train_label, \n",
    "                              left_on='label', \n",
    "                              right_on=y_train_label.index, \n",
    "                              how='left')"
   ]
  },
  {
   "cell_type": "markdown",
   "metadata": {},
   "source": [
    "Checking if there is any imbalance in activity (y_train):"
   ]
  },
  {
   "cell_type": "code",
   "execution_count": 83,
   "metadata": {},
   "outputs": [
    {
     "data": {
      "image/png": "[encoded data removed]",
      "text/plain": [
       "<Figure size 720x288 with 1 Axes>"
      ]
     },
     "metadata": {
      "needs_background": "light"
     },
     "output_type": "display_data"
    }
   ],
   "source": [
    "plt.figure(figsize=(10,4))\n",
    "plt.title('Classes imbalance in training data')\n",
    "sns.countplot(y_train_with_label['activity'])\n",
    "plt.ylabel('Count')\n",
    "plt.xlabel('Activity')\n",
    "plt.xticks(rotation=90)\n",
    "plt.show()"
   ]
  },
  {
   "cell_type": "markdown",
   "metadata": {},
   "source": [
    "As we can see, data is highly imbalanced. There are two groups of numerical amount: \n",
    "<li> Representing single state i.e. standing </li>\n",
    "<li> Representing transition of state i.e. stand_to_sit </li>"
   ]
  },
  {
   "cell_type": "markdown",
   "metadata": {},
   "source": [
    "What we observe so far is that we have clean data - no missing values/duplicates. <br>\n",
    "But there are two major problems:\n",
    "<li> High dimensionality - 561 features </li>\n",
    "<li> Classes imbalance </li>"
   ]
  },
  {
   "cell_type": "code",
   "execution_count": 95,
   "metadata": {},
   "outputs": [],
   "source": [
    "from sklearn.decomposition import PCA"
   ]
  },
  {
   "cell_type": "code",
   "execution_count": 98,
   "metadata": {},
   "outputs": [
    {
     "ename": "TypeError",
     "evalue": "fit() missing 1 required positional argument: 'self'",
     "output_type": "error",
     "traceback": [
      "\u001b[1;31m---------------------------------------------------------------------------\u001b[0m",
      "\u001b[1;31mTypeError\u001b[0m                                 Traceback (most recent call last)",
      "\u001b[1;32m<ipython-input-98-887c14b30a0c>\u001b[0m in \u001b[0;36m<module>\u001b[1;34m\u001b[0m\n\u001b[1;32m----> 1\u001b[1;33m \u001b[0mPCA\u001b[0m\u001b[1;33m.\u001b[0m\u001b[0mfit\u001b[0m\u001b[1;33m(\u001b[0m\u001b[0mX\u001b[0m\u001b[1;33m=\u001b[0m\u001b[0mX_train\u001b[0m\u001b[1;33m.\u001b[0m\u001b[0mvalues\u001b[0m\u001b[1;33m)\u001b[0m\u001b[1;33m\u001b[0m\u001b[0m\n\u001b[0m",
      "\u001b[1;31mTypeError\u001b[0m: fit() missing 1 required positional argument: 'self'"
     ]
    }
   ],
   "source": [
    "PCA.fit(X_train.values)"
   ]
  },
  {
   "cell_type": "code",
   "execution_count": null,
   "metadata": {},
   "outputs": [],
   "source": []
  }
 ],
 "metadata": {
  "kernelspec": {
   "display_name": "Python 3",
   "language": "python",
   "name": "python3"
  },
  "language_info": {
   "codemirror_mode": {
    "name": "ipython",
    "version": 3
   },
   "file_extension": ".py",
   "mimetype": "text/x-python",
   "name": "python",
   "nbconvert_exporter": "python",
   "pygments_lexer": "ipython3",
   "version": "3.6.5"
  }
 },
 "nbformat": 4,
 "nbformat_minor": 4
}
